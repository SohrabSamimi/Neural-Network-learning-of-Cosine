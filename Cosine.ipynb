{
 "cells": [
  {
   "cell_type": "code",
   "execution_count": 709,
   "metadata": {},
   "outputs": [],
   "source": [
    "import torch\n",
    "import torch.nn as nn\n",
    "from torch.utils.data import Dataset,DataLoader\n",
    "import numpy as np\n",
    "import torch.optim\n",
    "import matplotlib.pyplot as plt"
   ]
  },
  {
   "cell_type": "code",
   "execution_count": 710,
   "metadata": {},
   "outputs": [],
   "source": [
    "mesh = torch.linspace(-2,2,5000)\n",
    "cosine_mesh = torch.cos(2*np.pi*mesh)\n",
    "dataset = torch.stack((mesh,cosine_mesh))\n",
    "nb_train = int(dataset.shape[1] * 0.8)\n",
    "data_train = dataset[:,:nb_train]\n",
    "data_test = dataset[:,nb_train:]\n"
   ]
  },
  {
   "cell_type": "code",
   "execution_count": 711,
   "metadata": {},
   "outputs": [
    {
     "data": {
      "image/png": "[encoded data removed]",
      "text/plain": [
       "<Figure size 432x288 with 1 Axes>"
      ]
     },
     "metadata": {
      "needs_background": "light"
     },
     "output_type": "display_data"
    }
   ],
   "source": [
    "plt.plot(mesh,square)\n",
    "plt.show()"
   ]
  },
  {
   "cell_type": "code",
   "execution_count": 712,
   "metadata": {},
   "outputs": [],
   "source": [
    "class Square(Dataset):\n",
    "    def __init__(self,dataset):\n",
    "        super().__init__()\n",
    "\n",
    "        self.dataset = dataset\n",
    "\n",
    "    def __getitem__(self,idx):\n",
    "        return self.dataset[0,idx], self.dataset[1,idx]\n",
    "\n",
    "\n",
    "    def __len__(self):\n",
    "\n",
    "        return self.dataset.shape[1]   \n"
   ]
  },
  {
   "cell_type": "code",
   "execution_count": 713,
   "metadata": {},
   "outputs": [],
   "source": [
    "class Neural_Net(nn.Module):\n",
    "    def __init__(self,nb_layers,input_dim,latent_dim,output_dim,activation):\n",
    "        super().__init__()\n",
    "\n",
    "        self.nb_layers = nb_layers\n",
    "        self.input_dim = input_dim\n",
    "        self.latent_dim = latent_dim\n",
    "        self.output_dim = output_dim\n",
    "        self.activation = activation\n",
    "        self.layers = nn.ModuleList([nn.Linear(input_dim,latent_dim)])\n",
    "        for i in range(self.nb_layers-1):\n",
    "            self.layers.append(nn.Linear(latent_dim,latent_dim))\n",
    "\n",
    "        self.last_layer = nn.Linear(latent_dim,output_dim)    \n",
    "\n",
    "    def forward(self,x):\n",
    "\n",
    "        inputs = [x]\n",
    "        for j in range(self.nb_layers):\n",
    "            a = self.layers[j](inputs[j])\n",
    "            \"\"\"do not forget ACTIVATION FUNCTION!!!!!\"\"\"\n",
    "            if j%2 == 0:\n",
    "                b = self.activation[0](a)\n",
    "            else:\n",
    "                b = self.activation[1](a)    \n",
    "            inputs.append(b)\n",
    "        \n",
    "        output = self.last_layer(inputs[-1])\n",
    "        return output      \n"
   ]
  },
  {
   "cell_type": "code",
   "execution_count": 714,
   "metadata": {},
   "outputs": [],
   "source": [
    "SQ_train = Square(dataset=data_train)\n",
    "SQ_test = Square(dataset=data_test)\n",
    "BATCH_SIZE = 25\n",
    "N_EPOCHS = 400\n",
    "LR = 1e-3\n",
    "INPUT_DIM = 1\n",
    "LATENT_DIM = 5\n",
    "OUTPUT_DIM = 1\n",
    "activation = [nn.Tanh(),nn.LeakyReLU()]\n",
    "NB_LAYERS = 3\n",
    "EVERY_EP = 5"
   ]
  },
  {
   "cell_type": "code",
   "execution_count": 715,
   "metadata": {},
   "outputs": [],
   "source": [
    "NN = Neural_Net(nb_layers=NB_LAYERS,input_dim=INPUT_DIM,latent_dim=LATENT_DIM,output_dim=OUTPUT_DIM,activation=activation)"
   ]
  },
  {
   "cell_type": "code",
   "execution_count": 716,
   "metadata": {},
   "outputs": [],
   "source": [
    "criterion = nn.MSELoss()\n",
    "optimizer = torch.optim.Adam(NN.parameters(),lr=LR)"
   ]
  },
  {
   "cell_type": "code",
   "execution_count": 717,
   "metadata": {},
   "outputs": [],
   "source": [
    "train_loader = DataLoader(dataset=SQ_train,batch_size=BATCH_SIZE,shuffle=True,drop_last=True)\n",
    "test_loader = DataLoader(dataset=SQ_test,batch_size=BATCH_SIZE,shuffle=True,drop_last=True)"
   ]
  },
  {
   "cell_type": "code",
   "execution_count": 718,
   "metadata": {},
   "outputs": [
    {
     "name": "stdout",
     "output_type": "stream",
     "text": [
      "Epoch: 0 , Loss Train: 0.5013965964317322\n",
      "Epoch: 0 , Loss Test: 0.5321089625358582\n",
      "Epoch: 5 , Loss Train: 0.49497830867767334\n",
      "Epoch: 5 , Loss Test: 0.6276184916496277\n",
      "Epoch: 10 , Loss Train: 0.48972177505493164\n",
      "Epoch: 10 , Loss Test: 0.7137012481689453\n",
      "Epoch: 15 , Loss Train: 0.4852599501609802\n",
      "Epoch: 15 , Loss Test: 0.7072266340255737\n",
      "Epoch: 20 , Loss Train: 0.4738086462020874\n",
      "Epoch: 20 , Loss Test: 0.9145822525024414\n",
      "Epoch: 25 , Loss Train: 0.45988237857818604\n",
      "Epoch: 25 , Loss Test: 1.133562684059143\n",
      "Epoch: 30 , Loss Train: 0.44237369298934937\n",
      "Epoch: 30 , Loss Test: 1.3651841878890991\n",
      "Epoch: 35 , Loss Train: 0.41225430369377136\n",
      "Epoch: 35 , Loss Test: 1.3923097848892212\n",
      "Epoch: 40 , Loss Train: 0.3648788630962372\n",
      "Epoch: 40 , Loss Test: 2.022073268890381\n",
      "Epoch: 45 , Loss Train: 0.29756399989128113\n",
      "Epoch: 45 , Loss Test: 2.547793388366699\n",
      "Epoch: 50 , Loss Train: 0.23465226590633392\n",
      "Epoch: 50 , Loss Test: 3.3967361450195312\n",
      "Epoch: 55 , Loss Train: 0.19640980660915375\n",
      "Epoch: 55 , Loss Test: 3.0135486125946045\n",
      "Epoch: 60 , Loss Train: 0.16966791450977325\n",
      "Epoch: 60 , Loss Test: 1.8778194189071655\n",
      "Epoch: 65 , Loss Train: 0.15343303978443146\n",
      "Epoch: 65 , Loss Test: 1.216299295425415\n",
      "Epoch: 70 , Loss Train: 0.13965573906898499\n",
      "Epoch: 70 , Loss Test: 1.1822535991668701\n",
      "Epoch: 75 , Loss Train: 0.11830595135688782\n",
      "Epoch: 75 , Loss Test: 1.0328919887542725\n",
      "Epoch: 80 , Loss Train: 0.10004602372646332\n",
      "Epoch: 80 , Loss Test: 0.7766856551170349\n",
      "Epoch: 85 , Loss Train: 0.08150696754455566\n",
      "Epoch: 85 , Loss Test: 0.742935299873352\n",
      "Epoch: 90 , Loss Train: 0.06409911811351776\n",
      "Epoch: 90 , Loss Test: 0.7215343117713928\n",
      "Epoch: 95 , Loss Train: 0.05323418974876404\n",
      "Epoch: 95 , Loss Test: 0.8262248635292053\n",
      "Epoch: 100 , Loss Train: 0.04146874323487282\n",
      "Epoch: 100 , Loss Test: 0.5239635109901428\n",
      "Epoch: 105 , Loss Train: 0.03389687091112137\n",
      "Epoch: 105 , Loss Test: 0.5675806999206543\n",
      "Epoch: 110 , Loss Train: 0.030520645901560783\n",
      "Epoch: 110 , Loss Test: 0.6460537314414978\n",
      "Epoch: 115 , Loss Train: 0.028375087305903435\n",
      "Epoch: 115 , Loss Test: 0.5931043028831482\n",
      "Epoch: 120 , Loss Train: 0.024822700768709183\n",
      "Epoch: 120 , Loss Test: 0.6086044311523438\n",
      "Epoch: 125 , Loss Train: 0.02438952960073948\n",
      "Epoch: 125 , Loss Test: 0.7185268402099609\n",
      "Epoch: 130 , Loss Train: 0.02323249727487564\n",
      "Epoch: 130 , Loss Test: 0.5795554518699646\n",
      "Epoch: 135 , Loss Train: 0.02192576788365841\n",
      "Epoch: 135 , Loss Test: 0.7913820743560791\n",
      "Epoch: 140 , Loss Train: 0.022927695885300636\n",
      "Epoch: 140 , Loss Test: 0.6306565999984741\n",
      "Epoch: 145 , Loss Train: 0.021547626703977585\n",
      "Epoch: 145 , Loss Test: 0.5843830704689026\n",
      "Epoch: 150 , Loss Train: 0.02201743982732296\n",
      "Epoch: 150 , Loss Test: 0.5575485229492188\n",
      "Epoch: 155 , Loss Train: 0.020901277661323547\n",
      "Epoch: 155 , Loss Test: 0.6095201373100281\n",
      "Epoch: 160 , Loss Train: 0.020445551723241806\n",
      "Epoch: 160 , Loss Test: 0.6120050549507141\n",
      "Epoch: 165 , Loss Train: 0.021298544481396675\n",
      "Epoch: 165 , Loss Test: 0.9298778176307678\n",
      "Epoch: 170 , Loss Train: 0.019509069621562958\n",
      "Epoch: 170 , Loss Test: 0.5294978618621826\n",
      "Epoch: 175 , Loss Train: 0.019466442987322807\n",
      "Epoch: 175 , Loss Test: 0.8288795948028564\n",
      "Epoch: 180 , Loss Train: 0.01933961734175682\n",
      "Epoch: 180 , Loss Test: 0.741234302520752\n",
      "Epoch: 185 , Loss Train: 0.020151499658823013\n",
      "Epoch: 185 , Loss Test: 0.6401196122169495\n",
      "Epoch: 190 , Loss Train: 0.019200485199689865\n",
      "Epoch: 190 , Loss Test: 0.5670651197433472\n",
      "Epoch: 195 , Loss Train: 0.019757842645049095\n",
      "Epoch: 195 , Loss Test: 0.7317550182342529\n",
      "Epoch: 200 , Loss Train: 0.0194105114787817\n",
      "Epoch: 200 , Loss Test: 0.8181687593460083\n",
      "Epoch: 205 , Loss Train: 0.02044423669576645\n",
      "Epoch: 205 , Loss Test: 0.5540399551391602\n",
      "Epoch: 210 , Loss Train: 0.019317246973514557\n",
      "Epoch: 210 , Loss Test: 0.6954190135002136\n",
      "Epoch: 215 , Loss Train: 0.018985413014888763\n",
      "Epoch: 215 , Loss Test: 0.6943546533584595\n",
      "Epoch: 220 , Loss Train: 0.019311096519231796\n",
      "Epoch: 220 , Loss Test: 0.644159197807312\n",
      "Epoch: 225 , Loss Train: 0.01882709562778473\n",
      "Epoch: 225 , Loss Test: 0.6616014242172241\n",
      "Epoch: 230 , Loss Train: 0.019354773685336113\n",
      "Epoch: 230 , Loss Test: 0.7865837812423706\n",
      "Epoch: 235 , Loss Train: 0.020078256726264954\n",
      "Epoch: 235 , Loss Test: 0.632321834564209\n",
      "Epoch: 240 , Loss Train: 0.020814957097172737\n",
      "Epoch: 240 , Loss Test: 0.547435998916626\n",
      "Epoch: 245 , Loss Train: 0.01879638060927391\n",
      "Epoch: 245 , Loss Test: 0.6489599943161011\n",
      "Epoch: 250 , Loss Train: 0.01848614402115345\n",
      "Epoch: 250 , Loss Test: 0.641523540019989\n",
      "Epoch: 255 , Loss Train: 0.018041769042611122\n",
      "Epoch: 255 , Loss Test: 0.6622517108917236\n",
      "Epoch: 260 , Loss Train: 0.01867435686290264\n",
      "Epoch: 260 , Loss Test: 0.765844464302063\n",
      "Epoch: 265 , Loss Train: 0.018277987837791443\n",
      "Epoch: 265 , Loss Test: 0.6101940870285034\n",
      "Epoch: 270 , Loss Train: 0.018697502091526985\n",
      "Epoch: 270 , Loss Test: 0.6572730541229248\n",
      "Epoch: 275 , Loss Train: 0.018555447459220886\n",
      "Epoch: 275 , Loss Test: 0.6739798784255981\n",
      "Epoch: 280 , Loss Train: 0.018307479098439217\n",
      "Epoch: 280 , Loss Test: 0.7332298159599304\n",
      "Epoch: 285 , Loss Train: 0.0203396026045084\n",
      "Epoch: 285 , Loss Test: 0.657731294631958\n",
      "Epoch: 290 , Loss Train: 0.018557291477918625\n",
      "Epoch: 290 , Loss Test: 0.647244393825531\n",
      "Epoch: 295 , Loss Train: 0.020232301205396652\n",
      "Epoch: 295 , Loss Test: 0.5791661143302917\n",
      "Epoch: 300 , Loss Train: 0.018552787601947784\n",
      "Epoch: 300 , Loss Test: 0.59385085105896\n",
      "Epoch: 305 , Loss Train: 0.01797647215425968\n",
      "Epoch: 305 , Loss Test: 0.6724957823753357\n",
      "Epoch: 310 , Loss Train: 0.017924103885889053\n",
      "Epoch: 310 , Loss Test: 0.7357847094535828\n",
      "Epoch: 315 , Loss Train: 0.017698409035801888\n",
      "Epoch: 315 , Loss Test: 0.8288976550102234\n",
      "Epoch: 320 , Loss Train: 0.01741713285446167\n",
      "Epoch: 320 , Loss Test: 0.6744151711463928\n",
      "Epoch: 325 , Loss Train: 0.01719401590526104\n",
      "Epoch: 325 , Loss Test: 0.7025981545448303\n",
      "Epoch: 330 , Loss Train: 0.017146816477179527\n",
      "Epoch: 330 , Loss Test: 0.7888569235801697\n",
      "Epoch: 335 , Loss Train: 0.01758916676044464\n",
      "Epoch: 335 , Loss Test: 0.7292876839637756\n",
      "Epoch: 340 , Loss Train: 0.017069462686777115\n",
      "Epoch: 340 , Loss Test: 0.7668666839599609\n",
      "Epoch: 345 , Loss Train: 0.01828444004058838\n",
      "Epoch: 345 , Loss Test: 0.7469220757484436\n",
      "Epoch: 350 , Loss Train: 0.01729552261531353\n",
      "Epoch: 350 , Loss Test: 0.9178745746612549\n",
      "Epoch: 355 , Loss Train: 0.01707634888589382\n",
      "Epoch: 355 , Loss Test: 0.6127307415008545\n",
      "Epoch: 360 , Loss Train: 0.017340635880827904\n",
      "Epoch: 360 , Loss Test: 0.8823748826980591\n",
      "Epoch: 365 , Loss Train: 0.016649961471557617\n",
      "Epoch: 365 , Loss Test: 0.7825573086738586\n",
      "Epoch: 370 , Loss Train: 0.017287585884332657\n",
      "Epoch: 370 , Loss Test: 0.718860924243927\n",
      "Epoch: 375 , Loss Train: 0.01642490178346634\n",
      "Epoch: 375 , Loss Test: 0.5842330455780029\n",
      "Epoch: 380 , Loss Train: 0.017275946214795113\n",
      "Epoch: 380 , Loss Test: 0.7056282162666321\n",
      "Epoch: 385 , Loss Train: 0.017343511804938316\n",
      "Epoch: 385 , Loss Test: 0.6649452447891235\n",
      "Epoch: 390 , Loss Train: 0.01651003770530224\n",
      "Epoch: 390 , Loss Test: 0.6993342041969299\n",
      "Epoch: 395 , Loss Train: 0.016631172969937325\n",
      "Epoch: 395 , Loss Test: 0.6608692407608032\n"
     ]
    }
   ],
   "source": [
    "loss_train = 0\n",
    "for epoch in range(N_EPOCHS):\n",
    "    for n_batch,batch in enumerate(train_loader):\n",
    "        x,labels = batch\n",
    "        outputs = NN(x.view(BATCH_SIZE,INPUT_DIM))\n",
    "        loss = criterion(outputs,labels.view(BATCH_SIZE,INPUT_DIM))\n",
    "        loss_train += loss.detach()\n",
    "        \n",
    "        loss.backward()\n",
    "        optimizer.step()\n",
    "        optimizer.zero_grad()\n",
    "\n",
    "    loss_train /= (len(train_loader.dataset))\n",
    "    loss_train *= BATCH_SIZE\n",
    "    if epoch%EVERY_EP == 0:\n",
    "        print(f\"Epoch: {epoch} , Loss Train: {loss_train}\")  \n",
    "    \n",
    "    loss_test = 0\n",
    "    with torch.no_grad():\n",
    "        for n_batch,batch in enumerate(test_loader):\n",
    "            a,l =  batch \n",
    "\n",
    "            out = NN(a.view(BATCH_SIZE,INPUT_DIM))\n",
    "            Loss = criterion(out,l.view(BATCH_SIZE,INPUT_DIM))\n",
    "            loss_test += Loss.detach()\n",
    "        loss_test /= (len(test_loader.dataset)) \n",
    "        loss_test *= BATCH_SIZE       \n",
    "        \n",
    "        if epoch%EVERY_EP == 0:\n",
    "            print(f\"Epoch: {epoch} , Loss Test: {loss_test}\")        \n",
    "\n",
    "\n",
    "\n",
    "\n"
   ]
  },
  {
   "cell_type": "code",
   "execution_count": 719,
   "metadata": {},
   "outputs": [
    {
     "data": {
      "image/png": "[encoded data removed]",
      "text/plain": [
       "<Figure size 432x288 with 1 Axes>"
      ]
     },
     "metadata": {
      "needs_background": "light"
     },
     "output_type": "display_data"
    }
   ],
   "source": [
    "import matplotlib.pyplot as plt\n",
    "\n",
    "grid = torch.linspace(-3,3,5000).view(5000,1)\n",
    "cos_grid = torch.cos(2*np.pi*grid)\n",
    "y_prediction = NN(grid).detach()\n",
    "\n",
    "plt.plot(grid,cos_grid)\n",
    "plt.plot(grid,y_prediction)\n",
    "plt.show()"
   ]
  }
 ],
 "metadata": {
  "kernelspec": {
   "display_name": "Python 3.8.8 ('siren')",
   "language": "python",
   "name": "python3"
  },
  "language_info": {
   "codemirror_mode": {
    "name": "ipython",
    "version": 3
   },
   "file_extension": ".py",
   "mimetype": "text/x-python",
   "name": "python",
   "nbconvert_exporter": "python",
   "pygments_lexer": "ipython3",
   "version": "3.8.8"
  },
  "orig_nbformat": 4,
  "vscode": {
   "interpreter": {
    "hash": "3fd7d50f492f92212f299a8845947e0f7f02130f4b765f0bc56fac9269ca963c"
   }
  }
 },
 "nbformat": 4,
 "nbformat_minor": 2
}
